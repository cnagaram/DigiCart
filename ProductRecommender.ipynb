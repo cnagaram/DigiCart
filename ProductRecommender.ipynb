{
 "cells": [
  {
   "cell_type": "code",
   "execution_count": 11,
   "metadata": {},
   "outputs": [],
   "source": [
    "import os\n",
    "import csv\n",
    "import mysql.connector\n",
    "from surprise import BaselineOnly\n",
    "from surprise import Dataset\n",
    "from surprise import Reader\n",
    "from surprise import SVD\n",
    "from surprise import accuracy\n",
    "from surprise.model_selection import cross_validate\n",
    "from surprise.model_selection import train_test_split\n",
    "from collections import defaultdict"
   ]
  },
  {
   "cell_type": "code",
   "execution_count": 12,
   "metadata": {},
   "outputs": [],
   "source": [
    "mydb = mysql.connector.connect(\n",
    "  host=\"localhost\",\n",
    "  user=\"root\",\n",
    "  passwd=\"root\",\n",
    "  database=\"digicart\"\n",
    ")"
   ]
  },
  {
   "cell_type": "code",
   "execution_count": 13,
   "metadata": {},
   "outputs": [],
   "source": [
    "mycursor = mydb.cursor()"
   ]
  },
  {
   "cell_type": "code",
   "execution_count": 14,
   "metadata": {},
   "outputs": [
    {
     "name": "stdout",
     "output_type": "stream",
     "text": [
      "palash ['AVpg8GjjLJeJML43Uplr', 'AVpivePGilAPnD_xHH0l']\n",
      "chaitanya ['AVpf3txeLJeJML43FN82', 'AVpfuJ4pilAPnD_xhDyM', 'AVpf0Nyo1cnluZ0-rzhu', 'AVpfgGwSLJeJML43-VCn', 'AVphRsH11cnluZ0-Agzr']\n",
      "harika ['AVpf0Nyo1cnluZ0-rzhu', 'AVphRsH11cnluZ0-Agzr', 'AVpivePGilAPnD_xHH0l', 'AVphUeKeilAPnD_x3-Be', 'AVpf3txeLJeJML43FN82']\n",
      "dd ['AVpf3txeLJeJML43FN82', 'AVpfuJ4pilAPnD_xhDyM', 'AVpfVI9wilAPnD_xZxH-', 'AVpfjP9uilAPnD_xdy6-', 'AVpg8GjjLJeJML43Uplr']\n",
      "123 ['AVphRsH11cnluZ0-Agzr', 'AVpf3txeLJeJML43FN82', 'AVsRhL-fQMlgsOJE6zvB', 'AVphUeKeilAPnD_x3-Be', 'AVpf0Nyo1cnluZ0-rzhu']\n",
      "palashjain ['AVpfVI9wilAPnD_xZxH-', 'AVpf3txeLJeJML43FN82', 'AVsRhL-fQMlgsOJE6zvB', 'AVpe9BGF1cnluZ0-annA', 'AV4GShTMvKc47QAVrFsX']\n"
     ]
    }
   ],
   "source": [
    "pr_file_path=\"C:/Program Files/Apache Software Foundation/Tomcat 7.0/webapps/DigiCart/\"\n",
    "os.chdir('C:/Program Files/MongoDB/Server/4.2/bin')\n",
    "mycursor.execute(\"select username,id,viewCount as count from searchhistory\")\n",
    "views = mycursor.fetchall()\n",
    "headers = [col[0] for col in mycursor.description]\n",
    "viewWriter = open('C:/Users/Chait/Desktop/mongosearchdata_train.csv', 'w', newline=\"\")\n",
    "myFile = csv.writer(viewWriter)\n",
    "myFile.writerow(headers)\n",
    "myFile.writerows(views)\n",
    "viewWriter.close()\n",
    "\n",
    "with open(\"C:/Users/Chait/Desktop/mongosearchdata_train.csv\", \"r\") as f:\n",
    "    reader = csv.DictReader(f, delimiter=',')\n",
    "    with open(\"C:/Users/Chait/Desktop/mongosearchdata_test.csv\", \"w\",newline='') as f_out:\n",
    "        writer = csv.DictWriter(f_out, fieldnames=reader.fieldnames, delimiter=\",\")\n",
    "        for row in reader:\n",
    "            writer.writerow(row)\n",
    "            \n",
    "file_path = os.path.expanduser('C:/Users/Chait/Desktop/mongosearchdata_test.csv')\n",
    "\n",
    "# As we're loading a custom dataset, we need to define a reader. In the\n",
    "# movielens-100k dataset, each line has the following format:\n",
    "# 'user item rating timestamp', separated by '\\t' characters.\n",
    "reader = Reader(line_format='user item rating', sep=',')\n",
    "\n",
    "#data = Dataset.load_from_file(file_path, reader=reader)\n",
    "\n",
    "def get_top_n(predictions, n=10):\n",
    "    '''Return the top-N recommendation for each user from a set of predictions.\n",
    "\n",
    "    Args:\n",
    "        predictions(list of Prediction objects): The list of predictions, as\n",
    "            returned by the test method of an algorithm.\n",
    "        n(int): The number of recommendation to output for each user. Default\n",
    "            is 10.\n",
    "\n",
    "    Returns:\n",
    "    A dict where keys are user (raw) ids and values are lists of tuples:\n",
    "        [(raw item id, rating estimation), ...] of size n.\n",
    "    '''\n",
    "\n",
    "    # First map the predictions to each user.\n",
    "    top_n = defaultdict(list)\n",
    "    for uid, iid, true_r, est, _ in predictions:\n",
    "        top_n[uid].append((iid, est))\n",
    "\n",
    "    # Then sort the predictions for each user and retrieve the k highest ones.\n",
    "    for uid, user_ratings in top_n.items():\n",
    "        user_ratings.sort(key=lambda x: x[1], reverse=True)\n",
    "        top_n[uid] = user_ratings[:n]\n",
    "    #print(top_n)\n",
    "\n",
    "    return top_n\n",
    "\n",
    "# First train an SVD algorithm on the movielens dataset.\n",
    "data = Dataset.load_from_file(file_path, reader=reader)\n",
    "trainset = data.build_full_trainset()\n",
    "algo = SVD()\n",
    "algo.fit(trainset)\n",
    "\n",
    "# Than predict ratings for all pairs (u, i) that are NOT in the training set.\n",
    "testset = trainset.build_anti_testset()\n",
    "#print(testset)\n",
    "predictions = algo.test(testset)\n",
    "#print(predictions)\n",
    "\n",
    "top_n = get_top_n(predictions, n=5)\n",
    "\n",
    "# Print the recommended items for each user\n",
    "for uid, user_ratings in top_n.items():\n",
    "    print(uid, [iid for (iid, _) in user_ratings])\n",
    "    \n",
    "out = open(pr_file_path+'/output.csv', 'w',newline='')\n",
    "output=csv.writer(out)\n",
    "\n",
    "for uid, user_ratings in top_n.items():\n",
    "    output.writerow([uid, [iid for (iid, _) in user_ratings]])\n",
    "    \n",
    "out.close()\n"
   ]
  }
 ],
 "metadata": {
  "anaconda-cloud": {},
  "kernelspec": {
   "display_name": "Python 3",
   "language": "python",
   "name": "python3"
  },
  "language_info": {
   "codemirror_mode": {
    "name": "ipython",
    "version": 3
   },
   "file_extension": ".py",
   "mimetype": "text/x-python",
   "name": "python",
   "nbconvert_exporter": "python",
   "pygments_lexer": "ipython3",
   "version": "3.7.4"
  }
 },
 "nbformat": 4,
 "nbformat_minor": 1
}
